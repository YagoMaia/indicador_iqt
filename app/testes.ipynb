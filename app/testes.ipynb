{
 "cells": [
  {
   "cell_type": "code",
   "execution_count": 2,
   "metadata": {},
   "outputs": [],
   "source": [
    "import pandas as pd\n",
    "import numpy as np\n",
    "import os"
   ]
  },
  {
   "cell_type": "code",
   "execution_count": null,
   "metadata": {},
   "outputs": [],
   "source": [
    "df_residencias = pd.read_csv('../planilhas/residencias.csv')\n",
    "df_residencias['Longitude'] = df_residencias['Longitude'] / 1e6\n",
    "df_residencias['Latitude'] = df_residencias['Latitude'] / 1e6"
   ]
  },
  {
   "cell_type": "code",
   "execution_count": null,
   "metadata": {},
   "outputs": [],
   "source": [
    "df_residencias.head()"
   ]
  },
  {
   "cell_type": "code",
   "execution_count": null,
   "metadata": {},
   "outputs": [],
   "source": [
    "df_pontos_onibus = pd.read_csv('../planilhas/pontos_tratados.csv')\n",
    "df_pontos_onibus.head()"
   ]
  },
  {
   "cell_type": "markdown",
   "metadata": {},
   "source": [
    "# Associação entre ponto de ônibus e residência"
   ]
  },
  {
   "cell_type": "code",
   "execution_count": null,
   "metadata": {},
   "outputs": [],
   "source": [
    "def euclidean_distance(residencia, ponto_onibus):\n",
    "        return np.sqrt(np.sum(np.square(np.array(residencia) - np.array(ponto_onibus))))"
   ]
  },
  {
   "cell_type": "code",
   "execution_count": null,
   "metadata": {},
   "outputs": [],
   "source": [
    "associacoes = []\n",
    "for idx_ponto, residencia in df_residencias.iterrows():\n",
    "    distancias = []\n",
    "    for idx_linha, ponto_onibus in df_pontos_onibus.iterrows():\n",
    "        print(idx_ponto, idx_linha)\n",
    "        coord_resid = np.array([residencia['Latitude'], residencia['Longitude']])\n",
    "        coord_ponto = np.array([ponto_onibus['Latitude'], ponto_onibus['Longitude']])\n",
    "        # distancia_ponto_residencia = euclidean_distance(coord_resid, coord_ponto)  # Aqui estamos acessando a geometria diretamente pelo índice da coluna\n",
    "        # distancias.append(distancia_ponto_residencia)\n",
    "        # print(distancia)\n",
    "        # if distancia <= tolerancia:\n",
    "    # num_assoc = np.argmin(distancias)\n",
    "    # associacoes.append({'id_residencia': idx_ponto, 'ponto_onibus_associado': num_assoc, 'distancia': np.min(distancias)})\n",
    "        # associacoes.append({'ponto_id': ponto['ponto_id'], 'linha_id': linha['linha_id'], 'distancia': distancia})"
   ]
  },
  {
   "cell_type": "code",
   "execution_count": null,
   "metadata": {},
   "outputs": [],
   "source": [
    "import geopandas as gpd\n",
    "from shapely.geometry import Point, LineString\n",
    "\n",
    "# Exemplo de dados de pontos de ônibus (substitua pelos seus dados)\n",
    "dados_pontos = {\n",
    "    'ponto_id': [1, 2, 3],\n",
    "    'geometry': [Point([-43.87352, -16.69642]), Point([-43.88644, -16.79298]), Point([-43.87403, -16.6892])], \n",
    "    'latitude': [-16.69642, -16.79298, -16.6892],\n",
    "    'longitude': [-43.87352, -43.88644, -43.87403]\n",
    "}\n",
    "df_pontos = pd.DataFrame(dados_pontos)\n",
    "gdf_pontos = gpd.GeoDataFrame(df_pontos, geometry=gpd.points_from_xy(df_pontos.longitude, df_pontos.latitude))\n",
    "\n",
    "# Exemplo de dados de linhas de ônibus (substitua pelos seus dados)\n",
    "dados_linhas = {\n",
    "    'linha_id': ['7101 - VOLTA', '7103 - IDA', '7103 - VOLTA'],\n",
    "    'distancia': ['10.2 km', '16.7 km', '18.5 km'],\n",
    "    'trajeto': [\n",
    "        LineString([(-43.87352, -16.69642), (-43.87342, -16.69652)]),\n",
    "        LineString([(-43.88644, -16.79298), (-43.88630, -16.79300)]),\n",
    "        LineString([(-43.87403, -16.68920), (-43.87448, -16.68910)])\n",
    "    ]\n",
    "}\n",
    "df_linhas = pd.DataFrame(dados_linhas)\n",
    "gdf_linhas = gpd.GeoDataFrame(df_linhas, geometry='trajeto')\n",
    "\n",
    "# Definir uma distância de tolerância em metros para associar pontos às linhas\n",
    "tolerancia = 100  # por exemplo, 100 metros\n",
    "\n",
    "associacoes = []\n",
    "for idx_ponto, ponto in gdf_pontos.iterrows():\n",
    "    for idx_linha, linha in gdf_linhas.iterrows():\n",
    "        distancia = ponto['geometry'].distance(linha['trajeto'])  # Aqui estamos acessando a geometria diretamente pelo índice da coluna\n",
    "        if distancia <= tolerancia:\n",
    "            associacoes.append({'ponto_id': ponto['ponto_id'], 'linha_id': linha['linha_id'], 'distancia': distancia})\n",
    "\n",
    "# Converter para DataFrame\n",
    "df_associacoes = pd.DataFrame(associacoes)\n",
    "\n",
    "# Exibir o DataFrame resultante com as associações\n",
    "print(df_associacoes)\n"
   ]
  },
  {
   "cell_type": "code",
   "execution_count": 9,
   "metadata": {},
   "outputs": [
    {
     "data": {
      "text/html": [
       "<div>\n",
       "<style scoped>\n",
       "    .dataframe tbody tr th:only-of-type {\n",
       "        vertical-align: middle;\n",
       "    }\n",
       "\n",
       "    .dataframe tbody tr th {\n",
       "        vertical-align: top;\n",
       "    }\n",
       "\n",
       "    .dataframe thead th {\n",
       "        text-align: right;\n",
       "    }\n",
       "</style>\n",
       "<table border=\"1\" class=\"dataframe\">\n",
       "  <thead>\n",
       "    <tr style=\"text-align: right;\">\n",
       "      <th></th>\n",
       "      <th></th>\n",
       "      <th>LINHA DESTINO</th>\n",
       "    </tr>\n",
       "    <tr>\n",
       "      <th>LINHA ORIGEM</th>\n",
       "      <th>SENTIDO ORIGEM</th>\n",
       "      <th></th>\n",
       "    </tr>\n",
       "  </thead>\n",
       "  <tbody>\n",
       "    <tr>\n",
       "      <th rowspan=\"2\" valign=\"top\">1501</th>\n",
       "      <th>IDA</th>\n",
       "      <td>63</td>\n",
       "    </tr>\n",
       "    <tr>\n",
       "      <th>VOLTA</th>\n",
       "      <td>59</td>\n",
       "    </tr>\n",
       "    <tr>\n",
       "      <th rowspan=\"2\" valign=\"top\">1601</th>\n",
       "      <th>IDA</th>\n",
       "      <td>55</td>\n",
       "    </tr>\n",
       "    <tr>\n",
       "      <th>VOLTA</th>\n",
       "      <td>49</td>\n",
       "    </tr>\n",
       "    <tr>\n",
       "      <th>1701</th>\n",
       "      <th>IDA</th>\n",
       "      <td>59</td>\n",
       "    </tr>\n",
       "    <tr>\n",
       "      <th>...</th>\n",
       "      <th>...</th>\n",
       "      <td>...</td>\n",
       "    </tr>\n",
       "    <tr>\n",
       "      <th>8201</th>\n",
       "      <th>VOLTA</th>\n",
       "      <td>50</td>\n",
       "    </tr>\n",
       "    <tr>\n",
       "      <th rowspan=\"2\" valign=\"top\">8401</th>\n",
       "      <th>IDA</th>\n",
       "      <td>52</td>\n",
       "    </tr>\n",
       "    <tr>\n",
       "      <th>VOLTA</th>\n",
       "      <td>9</td>\n",
       "    </tr>\n",
       "    <tr>\n",
       "      <th rowspan=\"2\" valign=\"top\">8801</th>\n",
       "      <th>IDA</th>\n",
       "      <td>67</td>\n",
       "    </tr>\n",
       "    <tr>\n",
       "      <th>VOLTA</th>\n",
       "      <td>9</td>\n",
       "    </tr>\n",
       "  </tbody>\n",
       "</table>\n",
       "<p>72 rows × 1 columns</p>\n",
       "</div>"
      ],
      "text/plain": [
       "                             LINHA DESTINO\n",
       "LINHA ORIGEM SENTIDO ORIGEM               \n",
       "1501         IDA                        63\n",
       "             VOLTA                      59\n",
       "1601         IDA                        55\n",
       "             VOLTA                      49\n",
       "1701         IDA                        59\n",
       "...                                    ...\n",
       "8201         VOLTA                      50\n",
       "8401         IDA                        52\n",
       "             VOLTA                       9\n",
       "8801         IDA                        67\n",
       "             VOLTA                       9\n",
       "\n",
       "[72 rows x 1 columns]"
      ]
     },
     "execution_count": 9,
     "metadata": {},
     "output_type": "execute_result"
    }
   ],
   "source": [
    "integracao = pd.read_csv('../planilhas/Matriz_Integracao.csv')\n",
    "df_int = integracao.groupby(['LINHA ORIGEM', 'SENTIDO ORIGEM']).agg({'LINHA DESTINO': 'count'})\n",
    "# integracao\n",
    "df_int"
   ]
  },
  {
   "cell_type": "code",
   "execution_count": 14,
   "metadata": {},
   "outputs": [
    {
     "data": {
      "text/plain": [
       "0        1501\n",
       "122      1601\n",
       "226      1701\n",
       "342      1702\n",
       "471      2201\n",
       "555      2202\n",
       "669      2203\n",
       "756      2601\n",
       "879      2603\n",
       "990      2604\n",
       "1108     3301\n",
       "1192     3302\n",
       "1264     3601\n",
       "1345     4601\n",
       "1445     4603\n",
       "1574     4701\n",
       "1693     5101\n",
       "1831     5601\n",
       "1931     5702\n",
       "2050     5801\n",
       "2190     5802\n",
       "2308     5803\n",
       "2403     5901\n",
       "2538     5902\n",
       "2656    6201R\n",
       "2772     6202\n",
       "2890     6203\n",
       "2980     6404\n",
       "3096    6404A\n",
       "3200     6604\n",
       "3262     6901\n",
       "3342     7101\n",
       "3468     7103\n",
       "3601     8201\n",
       "3702     8401\n",
       "3763     8801\n",
       "Name: LINHA ORIGEM, dtype: object"
      ]
     },
     "execution_count": 14,
     "metadata": {},
     "output_type": "execute_result"
    }
   ],
   "source": [
    "linhas_com_integracao = integracao.drop_duplicates(subset=['LINHA ORIGEM'])\n",
    "linhas_com_integracao = linhas_com_integracao['LINHA ORIGEM']\n",
    "linhas_com_integracao"
   ]
  }
 ],
 "metadata": {
  "kernelspec": {
   "display_name": ".venv",
   "language": "python",
   "name": "python3"
  },
  "language_info": {
   "codemirror_mode": {
    "name": "ipython",
    "version": 3
   },
   "file_extension": ".py",
   "mimetype": "text/x-python",
   "name": "python",
   "nbconvert_exporter": "python",
   "pygments_lexer": "ipython3",
   "version": "3.12.4"
  }
 },
 "nbformat": 4,
 "nbformat_minor": 2
}
