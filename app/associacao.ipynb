{
 "cells": [
  {
   "cell_type": "code",
   "execution_count": null,
   "metadata": {},
   "outputs": [],
   "source": [
    "import pandas as pd\n",
    "import numpy as np\n",
    "from scipy.spatial import cKDTree\n",
    "\n",
    "# Carregar os dados dos CSVs em DataFrames\n",
    "df1 = pd.read_csv(\"../planilhas/pontos_tratados.csv\")  # O arquivo com 1139 linhas\n",
    "df2 = pd.read_csv(\"../planilhas/residencias.csv\")  # O arquivo com 132000 linhas\n",
    "\n",
    "df2['Longitude'] = df2['Longitude'] / 1e6\n",
    "df2['Latitude'] = df2['Latitude'] / 1e6\n",
    "\n",
    "# Converter as colunas de latitude e longitude em arrays NumPy\n",
    "# Supondo que as colunas dos CSVs sejam 'Latitude' e 'Longitude'\n",
    "points1 = df1[['Latitude', 'Longitude']].to_numpy()\n",
    "points2 = df2[['Latitude', 'Longitude']].to_numpy()\n",
    "\n",
    "\n",
    "# Criar uma KDTree para os pontos do segundo conjunto (132000 pontos)\n",
    "tree = cKDTree(points2)\n",
    "\n",
    "# Calcular a distância mínima entre cada ponto do primeiro conjunto e os pontos do segundo conjunto\n",
    "distances, indices = tree.query(points1, k=1)  # k=1 para encontrar o ponto mais próximo\n",
    "\n",
    "# distances terá a distância mínima de cada ponto em points1 ao ponto mais próximo em points2\n",
    "# indices terá o índice dos pontos mais próximos no conjunto points2\n",
    "\n",
    "# Criar um DataFrame com os resultados\n",
    "result_df = pd.DataFrame({\n",
    "    'Ponto_Arquivo1': range(len(points1)),\n",
    "    'Ponto_Mais_Proximo_Arquivo2': indices,\n",
    "    'Distancia_Minima': distances\n",
    "})\n",
    "\n",
    "# Exibir as primeiras linhas do DataFrame resultante\n",
    "print(result_df.head())\n",
    "result_df"
   ]
  },
  {
   "cell_type": "code",
   "execution_count": 5,
   "metadata": {},
   "outputs": [
    {
     "ename": "KeyboardInterrupt",
     "evalue": "",
     "output_type": "error",
     "traceback": [
      "\u001b[1;31m---------------------------------------------------------------------------\u001b[0m",
      "\u001b[1;31mKeyboardInterrupt\u001b[0m                         Traceback (most recent call last)",
      "Cell \u001b[1;32mIn[5], line 32\u001b[0m\n\u001b[0;32m     30\u001b[0m \u001b[38;5;28;01mfor\u001b[39;00m i, coord1 \u001b[38;5;129;01min\u001b[39;00m \u001b[38;5;28menumerate\u001b[39m(coords1):\n\u001b[0;32m     31\u001b[0m     \u001b[38;5;28;01mfor\u001b[39;00m j, coord2 \u001b[38;5;129;01min\u001b[39;00m \u001b[38;5;28menumerate\u001b[39m(coords2):\n\u001b[1;32m---> 32\u001b[0m         distances[i, j] \u001b[38;5;241m=\u001b[39m \u001b[43mhaversine\u001b[49m\u001b[43m(\u001b[49m\u001b[43mcoord1\u001b[49m\u001b[43m,\u001b[49m\u001b[43m \u001b[49m\u001b[43mcoord2\u001b[49m\u001b[43m)\u001b[49m\n\u001b[0;32m     34\u001b[0m \u001b[38;5;66;03m# Exibe o array de distâncias (em metros)\u001b[39;00m\n\u001b[0;32m     35\u001b[0m \u001b[38;5;28mprint\u001b[39m(distances)\n",
      "Cell \u001b[1;32mIn[5], line 23\u001b[0m, in \u001b[0;36mhaversine\u001b[1;34m(coord1, coord2)\u001b[0m\n\u001b[0;32m     20\u001b[0m dlon \u001b[38;5;241m=\u001b[39m lon2 \u001b[38;5;241m-\u001b[39m lon1\n\u001b[0;32m     22\u001b[0m a \u001b[38;5;241m=\u001b[39m np\u001b[38;5;241m.\u001b[39msin(dlat \u001b[38;5;241m/\u001b[39m \u001b[38;5;241m2\u001b[39m)\u001b[38;5;241m*\u001b[39m\u001b[38;5;241m*\u001b[39m\u001b[38;5;241m2\u001b[39m \u001b[38;5;241m+\u001b[39m np\u001b[38;5;241m.\u001b[39mcos(lat1) \u001b[38;5;241m*\u001b[39m np\u001b[38;5;241m.\u001b[39mcos(lat2) \u001b[38;5;241m*\u001b[39m np\u001b[38;5;241m.\u001b[39msin(dlon \u001b[38;5;241m/\u001b[39m \u001b[38;5;241m2\u001b[39m)\u001b[38;5;241m*\u001b[39m\u001b[38;5;241m*\u001b[39m\u001b[38;5;241m2\u001b[39m\n\u001b[1;32m---> 23\u001b[0m c \u001b[38;5;241m=\u001b[39m \u001b[38;5;241m2\u001b[39m \u001b[38;5;241m*\u001b[39m \u001b[43mnp\u001b[49m\u001b[38;5;241;43m.\u001b[39;49m\u001b[43marctan2\u001b[49m\u001b[43m(\u001b[49m\u001b[43mnp\u001b[49m\u001b[38;5;241;43m.\u001b[39;49m\u001b[43msqrt\u001b[49m\u001b[43m(\u001b[49m\u001b[43ma\u001b[49m\u001b[43m)\u001b[49m\u001b[43m,\u001b[49m\u001b[43m \u001b[49m\u001b[43mnp\u001b[49m\u001b[38;5;241;43m.\u001b[39;49m\u001b[43msqrt\u001b[49m\u001b[43m(\u001b[49m\u001b[38;5;241;43m1\u001b[39;49m\u001b[43m \u001b[49m\u001b[38;5;241;43m-\u001b[39;49m\u001b[43m \u001b[49m\u001b[43ma\u001b[49m\u001b[43m)\u001b[49m\u001b[43m)\u001b[49m\n\u001b[0;32m     25\u001b[0m \u001b[38;5;28;01mreturn\u001b[39;00m R \u001b[38;5;241m*\u001b[39m c\n",
      "\u001b[1;31mKeyboardInterrupt\u001b[0m: "
     ]
    }
   ],
   "source": [
    "import pandas as pd\n",
    "import numpy as np\n",
    "\n",
    "# Carrega os dados dos dois CSVs\n",
    "# df1 = pd.read_csv('arquivo1.csv')  # Contendo 1139 linhas\n",
    "# df2 = pd.read_csv('arquivo2.csv')  # Contendo 132.000 linhas\n",
    "\n",
    "# Extrai as coordenadas de latitude e longitude\n",
    "coords1 = df1[['Latitude', 'Longitude']].values\n",
    "coords2 = df2[['Latitude', 'Longitude']].values\n",
    "\n",
    "# Função para calcular a distância de Haversine entre dois pontos em metros\n",
    "def haversine(coord1, coord2):\n",
    "    # Raio médio da Terra em metros\n",
    "    R = 6371000  \n",
    "    lat1, lon1 = np.radians(coord1)\n",
    "    lat2, lon2 = np.radians(coord2)\n",
    "    \n",
    "    dlat = lat2 - lat1\n",
    "    dlon = lon2 - lon1\n",
    "    \n",
    "    a = np.sin(dlat / 2)**2 + np.cos(lat1) * np.cos(lat2) * np.sin(dlon / 2)**2\n",
    "    c = 2 * np.arctan2(np.sqrt(a), np.sqrt(1 - a))\n",
    "    \n",
    "    return R * c\n",
    "\n",
    "# Calcula as distâncias usando Haversine e armazena em um array\n",
    "distances = np.zeros((coords1.shape[0], coords2.shape[0]))\n",
    "\n",
    "for i, coord1 in enumerate(coords1):\n",
    "    for j, coord2 in enumerate(coords2):\n",
    "        distances[i, j] = haversine(coord1, coord2)\n",
    "\n",
    "# Exibe o array de distâncias (em metros)\n",
    "print(distances)\n"
   ]
  }
 ],
 "metadata": {
  "kernelspec": {
   "display_name": ".venv",
   "language": "python",
   "name": "python3"
  },
  "language_info": {
   "codemirror_mode": {
    "name": "ipython",
    "version": 3
   },
   "file_extension": ".py",
   "mimetype": "text/x-python",
   "name": "python",
   "nbconvert_exporter": "python",
   "pygments_lexer": "ipython3",
   "version": "3.12.4"
  }
 },
 "nbformat": 4,
 "nbformat_minor": 2
}
