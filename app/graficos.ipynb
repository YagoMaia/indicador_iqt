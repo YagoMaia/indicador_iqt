{
 "cells": [
  {
   "cell_type": "code",
   "execution_count": null,
   "metadata": {},
   "outputs": [],
   "source": [
    "import matplotlib.pyplot as plt\n",
    "import pandas as pd\n",
    "import os\n",
    "import fiona \n",
    "import geopandas as gpd "
   ]
  },
  {
   "cell_type": "code",
   "execution_count": null,
   "metadata": {},
   "outputs": [],
   "source": [
    "path = os.path.dirname(os.path.abspath(os.path.dirname(__name__)))\n",
    "frequencia_atendimento = path+\"/arquivos/frequencia_atendimento.xlsx\"\n",
    "quantidade_onibus = path+\"/arquivos/viagens.xlsx\"\n",
    "\n",
    "df_frequencia = pd.read_excel(frequencia_atendimento)\n",
    "df_quantidade = pd.read_excel(quantidade_onibus)\n",
    "\n",
    "df_frequencia['Linha'] = df_frequencia['Linha'].astype(str)\n",
    "\n",
    "# print(len(df_frequencia['Linha']))\n",
    "df_frequencia.sort_values('Frequência')\n",
    "\n",
    "freq_otima, freq_boa, freq_suficiente, freq_insuficiente = 10, 15, 30, 40"
   ]
  },
  {
   "cell_type": "code",
   "execution_count": null,
   "metadata": {},
   "outputs": [],
   "source": [
    "df_quantidade['linha'] = df_quantidade['linha'].astype(str)\n",
    "df_quantidade['quantidade_veiculos'] = df_quantidade['quantidade_veiculos'].astype(int)\n",
    "df_quantidade = df_quantidade[['linha','quantidade_veiculos']]\n",
    "df_quantidade = df_quantidade.drop(25)\n",
    "df_quantidade.sort_values('linha', ascending=True)"
   ]
  },
  {
   "cell_type": "code",
   "execution_count": null,
   "metadata": {},
   "outputs": [],
   "source": [
    "fig, ax = plt.subplots(figsize=(15, 6))\n",
    "\n",
    "ax.bar(df_quantidade['linha'], df_quantidade['quantidade_veiculos'])\n",
    "\n",
    "ax.set_title('Quantidade de veículos x linha de ônibus')\n",
    "ax.set_xlabel('Linha de Ônibus')\n",
    "ax.set_ylabel('Quantidade de veículos')\n",
    "plt.show()"
   ]
  },
  {
   "cell_type": "code",
   "execution_count": null,
   "metadata": {},
   "outputs": [],
   "source": [
    "fig, ax = plt.subplots(figsize=(18, 6))\n",
    "\n",
    "ax.plot(df_frequencia['Linha'], df_frequencia['Frequência'], 'bo')\n",
    "\n",
    "ax.axhline(freq_otima, color='orange', linestyle='--', label=f'Frequência Ótima: {freq_otima}')\n",
    "ax.axhline(freq_boa, color='r', linestyle='--', label=f'Frequência Boa: {freq_boa}')\n",
    "ax.axhline(freq_suficiente, color='green', linestyle='--', label=f'Frequência Suficiente: {freq_suficiente}')\n",
    "ax.axhline(freq_insuficiente, color='purple', linestyle='--', label=f'Frequência Insuficiente: {freq_insuficiente}')\n",
    "\n",
    "ax.set_title('Frequência de atendimento das Linhas de Ônibus', fontdict = {'fontsize': 24})\n",
    "ax.set_xlabel('Linha de Ônibus', fontdict = {'fontsize': 12})\n",
    "ax.set_ylabel('Frequência atendimento (min)', fontdict = {'fontsize': 18})\n",
    "ax.legend(bbox_to_anchor=(0.5, -0.1), loc='upper center', borderaxespad=0., ncol=4, fontsize = 14)\n",
    "plt.show()"
   ]
  },
  {
   "cell_type": "code",
   "execution_count": null,
   "metadata": {},
   "outputs": [],
   "source": [
    "ciclo_viagem = path+\"/arquivos/planilha_gtfs.xlsx\"\n",
    "df_ciclo = pd.read_excel(ciclo_viagem, sheet_name='operacao')\n",
    "df_ciclo_correto = df_ciclo[df_ciclo['sentido'] == 'ida']\n",
    "df_ciclo = df_ciclo_correto[['linha', 'intervalo_minutos', 'ciclo_viagem']]\n",
    "\n",
    "df_ciclo = df_ciclo.dropna()\n",
    "df_ciclo['linha'] = df_ciclo['linha'].astype(str)\n",
    "\n",
    "df_ciclo"
   ]
  },
  {
   "cell_type": "code",
   "execution_count": null,
   "metadata": {},
   "outputs": [],
   "source": [
    "media_ciclo = sum(df_ciclo['ciclo_viagem'])/len(df_ciclo['ciclo_viagem'])"
   ]
  },
  {
   "cell_type": "code",
   "execution_count": null,
   "metadata": {},
   "outputs": [],
   "source": [
    "\n",
    "fig, ax = plt.subplots(figsize=(20, 6))\n",
    "\n",
    "ax.bar(df_ciclo['linha'], df_ciclo['ciclo_viagem'])\n",
    "\n",
    "ax.axhline(media_ciclo, color='red', linestyle='--', label=f'Média ciclo de viagem: {media_ciclo:.2f}')\n",
    "\n",
    "ax.set_title('Ciclo de viagem das Linhas de Ônibus')\n",
    "ax.set_xlabel('Linha de Ônibus')\n",
    "ax.set_ylabel('Ciclo de viagem (minutos)')\n",
    "ax.legend(loc='upper left')\n",
    "plt.show()"
   ]
  },
  {
   "cell_type": "code",
   "execution_count": null,
   "metadata": {},
   "outputs": [],
   "source": [
    "indicadores_prioridades = {\n",
    "    'nomeclatura': ['I4', 'I1', 'I2', 'I3', 'I5', 'I7', 'I6', 'I8', 'I9', 'I10'],\n",
    "    'prioridade': [0.2269, 0.1526, 0.1121, 0.0997, 0.0992, 0.0954, 0.0831, 0.0756, 0.0277, 0.0277],\n",
    "    'indicador': ['Pontualidade – cumprir horários', 'Porcentagem das vias pavimentadas', 'Distância entre pontos', 'Integração municipal do sistema de transporte', 'Frequência de atendimento', 'Abrangência da rede – atender a cidade', 'Cumprimento dos itinerários', 'Treinamento e capacitação dos motoristas', 'Existência Sistema de informação pela internet', 'Valor da Tarifa '],\n",
    "}\n",
    "df_indicadores_prioridades = pd.DataFrame(indicadores_prioridades)\n",
    "\n",
    "indicadores_para_usar = ['I4', 'I5', 'I6']\n",
    "df_indicadores_prioridades"
   ]
  },
  {
   "cell_type": "code",
   "execution_count": null,
   "metadata": {},
   "outputs": [],
   "source": [
    "df_indicadores_para_usar = df_indicadores_prioridades[df_indicadores_prioridades['nomeclatura'].isin(indicadores_para_usar)]\n",
    "df_indicadores_para_usar"
   ]
  },
  {
   "cell_type": "code",
   "execution_count": null,
   "metadata": {},
   "outputs": [],
   "source": [
    "pontuacao_indicadores = {\n",
    "    'linha' : [],\n",
    "    'I4' : [],\n",
    "    'I5': [],\n",
    "    'I6': [],\n",
    "}\n",
    "\n",
    "print(len(df_ciclo))\n",
    "\n",
    "for row in df_ciclo.itertuples():\n",
    "    pontuacao_indicadores['linha'].append(row.linha)\n",
    "    if freq_otima <= row.intervalo_minutos < freq_boa:\n",
    "        pontuacao = 3\n",
    "    elif freq_boa <= row.intervalo_minutos < freq_suficiente:\n",
    "        pontuacao = 2\n",
    "    elif freq_suficiente <= row.intervalo_minutos < freq_insuficiente:\n",
    "        pontuacao = 1\n",
    "    else:\n",
    "        pontuacao = 0\n",
    "    pontuacao_indicadores['I5'].append(pontuacao)\n",
    "    # print(row)\n",
    "pontuacao_indicadores['I4'] = [0] * len(df_ciclo)\n",
    "pontuacao_indicadores['I6'] = [0] * len(df_ciclo)\n",
    "df_pontuacao_indicadores = pd.DataFrame(pontuacao_indicadores)\n",
    "\n",
    "df_pontuacao_indicadores['linha']"
   ]
  },
  {
   "cell_type": "code",
   "execution_count": null,
   "metadata": {},
   "outputs": [],
   "source": [
    "\n",
    "path = os.path.dirname(os.path.abspath(os.path.dirname(__name__)))\n",
    "\n",
    "fiona.drvsupport.supported_drivers['libkml'] = 'rw' \n",
    "fiona.drvsupport.supported_drivers['LIBKML'] = 'rw'\n",
    "\n",
    "path = path + \"/arquivos/\"\n",
    "kmz_file_path = path + \"linhas_observatório.kmz\"\n",
    "kml_file_path = path + \"aaaaaaa.kml\"\n",
    "\n",
    "layers = gpd.list_layers(kml_file_path)\n",
    "\n",
    "gdf_list = []\n",
    "for layer in fiona.listlayers(kml_file_path):\n",
    "    if layer == 'Linhas prontas':\n",
    "        continue\n",
    "    gdf = gpd.read_file(kml_file_path, driver='LIBKML', layer=layer)\n",
    "    gdf_list.append(gdf)\n",
    "\n",
    "gdf = gpd.GeoDataFrame(pd.concat(gdf_list, ignore_index=True))\n",
    "\n",
    "gdf_filtered = gdf.query(\"Name != ''\")\n",
    "gdf_filtered = gdf_filtered.query(\"Name != '1'\")\n",
    "gdf = gdf_filtered.query(\"Name != 'inativo'\")\n",
    "gdf['Description'] = gdf['Description'].str.replace(',', '.')\n",
    "\n",
    "gdf_ida = gdf[gdf['Name'].str.contains('IDA', case=False, na=False)]\n",
    "gdf_ida['Name'] = gdf['Name'].str.replace(' - IDA', \"\")\n",
    "\n",
    "gdf_ida['Description'] = gdf_ida['Description'].astype(float)"
   ]
  },
  {
   "cell_type": "code",
   "execution_count": null,
   "metadata": {},
   "outputs": [],
   "source": [
    "gdf_ida['Name'] = gdf_ida['Name'].str.replace('- IDA', '')\n",
    "gdf_ida = gdf_ida[gdf_ida['Name'] != '6604']"
   ]
  },
  {
   "cell_type": "code",
   "execution_count": null,
   "metadata": {},
   "outputs": [],
   "source": [
    "gdf_ida = gdf_ida.reset_index()\n",
    "\n",
    "gdf_ida\n"
   ]
  },
  {
   "cell_type": "code",
   "execution_count": null,
   "metadata": {},
   "outputs": [],
   "source": [
    "fig, ax = plt.subplots(figsize=(20, 6))\n",
    "\n",
    "ax.bar(df_quantidade['linha'], df_quantidade['quantidade_veiculos']/gdf_ida['Description'])\n",
    "\n",
    "ax.set_title('Quantidade de veículos por KM x Linha de Ônibus')\n",
    "ax.set_xlabel('Linha de Ônibus')\n",
    "ax.set_ylabel('Quantidade de veículos por KM')\n",
    "ax.legend(loc='upper left')\n",
    "plt.show()"
   ]
  },
  {
   "cell_type": "code",
   "execution_count": null,
   "metadata": {},
   "outputs": [],
   "source": [
    "fig, ax = plt.subplots(figsize=(20, 6))\n",
    "media_km = sum(gdf_ida['Description'])/len(gdf_ida['Description'])\n",
    "ax.bar(gdf_ida['Name'], gdf_ida['Description'])\n",
    "\n",
    "ax.axhline(media_km, color='red', linestyle='--', label=f'Média KM percorrido: {media_km:.2f}')\n",
    "\n",
    "ax.set_title('Quantidade de KM percorridos x Linha de Ônibus')\n",
    "ax.set_xlabel('Linha de Ônibus')\n",
    "ax.set_ylabel('Quantidade de KM percorridos')\n",
    "ax.legend(loc='upper left')\n",
    "plt.show()"
   ]
  }
 ],
 "metadata": {
  "kernelspec": {
   "display_name": ".venv",
   "language": "python",
   "name": "python3"
  },
  "language_info": {
   "codemirror_mode": {
    "name": "ipython",
    "version": 3
   },
   "file_extension": ".py",
   "mimetype": "text/x-python",
   "name": "python",
   "nbconvert_exporter": "python",
   "pygments_lexer": "ipython3",
   "version": "3.12.4"
  }
 },
 "nbformat": 4,
 "nbformat_minor": 2
}
